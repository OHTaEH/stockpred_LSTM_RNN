{
 "cells": [
  {
   "cell_type": "markdown",
   "id": "51eeeb41",
   "metadata": {},
   "source": [
    "## Topic 2: LSTM 으로 “현대자동차” 일별 주식가격 예측하기\n",
    "\n",
    "### 유튜브 영상 \" https://youtu.be/BfpOUU-dN7I \""
   ]
  },
  {
   "cell_type": "markdown",
   "id": "4b59aba5",
   "metadata": {},
   "source": [
    "## [Task 2.1]"
   ]
  },
  {
   "cell_type": "markdown",
   "id": "66c4d5f6",
   "metadata": {},
   "source": [
    "### 데이터 분석을 하기 위해 패키지 설치"
   ]
  },
  {
   "cell_type": "code",
   "execution_count": 1,
   "id": "762ec328",
   "metadata": {},
   "outputs": [],
   "source": [
    "# FinanceDataReader 패키지 설치 \n",
    "#!pip install finance-datareader\n",
    "import FinanceDataReader as fdr \n",
    "import numpy as np \n",
    "import matplotlib.pyplot as plt\n",
    "import argparse\n",
    "from sklearn.preprocessing import MinMaxScaler\n",
    "from sklearn.preprocessing import LabelEncoder\n",
    "from sklearn.metrics import mean_squared_error\n",
    "from sklearn.metrics import mean_absolute_error\n",
    "from copy import deepcopy # Add Deepcopy for args\n",
    "import datetime\n",
    "import seaborn as sns\n",
    "import os\n",
    "import pandas as pd\n",
    "import warnings\n",
    "import tensorflow as tf"
   ]
  },
  {
   "cell_type": "code",
   "execution_count": 2,
   "id": "4d092ba5",
   "metadata": {},
   "outputs": [],
   "source": [
    "from sklearn.model_selection import train_test_split"
   ]
  },
  {
   "cell_type": "code",
   "execution_count": 3,
   "id": "fdf9d492",
   "metadata": {},
   "outputs": [],
   "source": [
    "import pandas as pd"
   ]
  },
  {
   "cell_type": "code",
   "execution_count": 4,
   "id": "2db6516f",
   "metadata": {},
   "outputs": [],
   "source": [
    "from tensorflow import keras "
   ]
  },
  {
   "cell_type": "code",
   "execution_count": 5,
   "id": "41d2ab7c",
   "metadata": {},
   "outputs": [
    {
     "data": {
      "text/html": [
       "<div>\n",
       "<style scoped>\n",
       "    .dataframe tbody tr th:only-of-type {\n",
       "        vertical-align: middle;\n",
       "    }\n",
       "\n",
       "    .dataframe tbody tr th {\n",
       "        vertical-align: top;\n",
       "    }\n",
       "\n",
       "    .dataframe thead th {\n",
       "        text-align: right;\n",
       "    }\n",
       "</style>\n",
       "<table border=\"1\" class=\"dataframe\">\n",
       "  <thead>\n",
       "    <tr style=\"text-align: right;\">\n",
       "      <th></th>\n",
       "      <th>Code</th>\n",
       "      <th>ISU_CD</th>\n",
       "      <th>Name</th>\n",
       "      <th>Market</th>\n",
       "      <th>Dept</th>\n",
       "      <th>Close</th>\n",
       "      <th>ChangeCode</th>\n",
       "      <th>Changes</th>\n",
       "      <th>ChagesRatio</th>\n",
       "      <th>Open</th>\n",
       "      <th>High</th>\n",
       "      <th>Low</th>\n",
       "      <th>Volume</th>\n",
       "      <th>Amount</th>\n",
       "      <th>Marcap</th>\n",
       "      <th>Stocks</th>\n",
       "      <th>MarketId</th>\n",
       "    </tr>\n",
       "  </thead>\n",
       "  <tbody>\n",
       "    <tr>\n",
       "      <th>0</th>\n",
       "      <td>005930</td>\n",
       "      <td>KR7005930003</td>\n",
       "      <td>삼성전자</td>\n",
       "      <td>KOSPI</td>\n",
       "      <td></td>\n",
       "      <td>59500</td>\n",
       "      <td>3</td>\n",
       "      <td>0</td>\n",
       "      <td>0.00</td>\n",
       "      <td>59500</td>\n",
       "      <td>59900</td>\n",
       "      <td>59100</td>\n",
       "      <td>7696187</td>\n",
       "      <td>457558919300</td>\n",
       "      <td>355202061725000</td>\n",
       "      <td>5969782550</td>\n",
       "      <td>STK</td>\n",
       "    </tr>\n",
       "    <tr>\n",
       "      <th>1</th>\n",
       "      <td>373220</td>\n",
       "      <td>KR7373220003</td>\n",
       "      <td>LG에너지솔루션</td>\n",
       "      <td>KOSPI</td>\n",
       "      <td></td>\n",
       "      <td>482000</td>\n",
       "      <td>2</td>\n",
       "      <td>-3500</td>\n",
       "      <td>-0.72</td>\n",
       "      <td>482500</td>\n",
       "      <td>483000</td>\n",
       "      <td>473000</td>\n",
       "      <td>333848</td>\n",
       "      <td>159178309141</td>\n",
       "      <td>112788000000000</td>\n",
       "      <td>234000000</td>\n",
       "      <td>STK</td>\n",
       "    </tr>\n",
       "    <tr>\n",
       "      <th>2</th>\n",
       "      <td>207940</td>\n",
       "      <td>KR7207940008</td>\n",
       "      <td>삼성바이오로직스</td>\n",
       "      <td>KOSPI</td>\n",
       "      <td></td>\n",
       "      <td>821000</td>\n",
       "      <td>2</td>\n",
       "      <td>-14000</td>\n",
       "      <td>-1.68</td>\n",
       "      <td>825000</td>\n",
       "      <td>831000</td>\n",
       "      <td>821000</td>\n",
       "      <td>21686</td>\n",
       "      <td>17848391000</td>\n",
       "      <td>58433854000000</td>\n",
       "      <td>71174000</td>\n",
       "      <td>STK</td>\n",
       "    </tr>\n",
       "    <tr>\n",
       "      <th>3</th>\n",
       "      <td>000660</td>\n",
       "      <td>KR7000660001</td>\n",
       "      <td>SK하이닉스</td>\n",
       "      <td>KOSPI</td>\n",
       "      <td></td>\n",
       "      <td>79000</td>\n",
       "      <td>1</td>\n",
       "      <td>600</td>\n",
       "      <td>0.77</td>\n",
       "      <td>78300</td>\n",
       "      <td>80100</td>\n",
       "      <td>78300</td>\n",
       "      <td>1813544</td>\n",
       "      <td>143667793100</td>\n",
       "      <td>57512186835000</td>\n",
       "      <td>728002365</td>\n",
       "      <td>STK</td>\n",
       "    </tr>\n",
       "    <tr>\n",
       "      <th>4</th>\n",
       "      <td>051910</td>\n",
       "      <td>KR7051910008</td>\n",
       "      <td>LG화학</td>\n",
       "      <td>KOSPI</td>\n",
       "      <td></td>\n",
       "      <td>633000</td>\n",
       "      <td>2</td>\n",
       "      <td>-12000</td>\n",
       "      <td>-1.86</td>\n",
       "      <td>640000</td>\n",
       "      <td>643000</td>\n",
       "      <td>627000</td>\n",
       "      <td>101519</td>\n",
       "      <td>64321516000</td>\n",
       "      <td>44684953119000</td>\n",
       "      <td>70592343</td>\n",
       "      <td>STK</td>\n",
       "    </tr>\n",
       "  </tbody>\n",
       "</table>\n",
       "</div>"
      ],
      "text/plain": [
       "     Code        ISU_CD      Name Market Dept   Close ChangeCode  Changes  \\\n",
       "0  005930  KR7005930003      삼성전자  KOSPI        59500          3        0   \n",
       "1  373220  KR7373220003  LG에너지솔루션  KOSPI       482000          2    -3500   \n",
       "2  207940  KR7207940008  삼성바이오로직스  KOSPI       821000          2   -14000   \n",
       "3  000660  KR7000660001    SK하이닉스  KOSPI        79000          1      600   \n",
       "4  051910  KR7051910008      LG화학  KOSPI       633000          2   -12000   \n",
       "\n",
       "   ChagesRatio    Open    High     Low   Volume        Amount  \\\n",
       "0         0.00   59500   59900   59100  7696187  457558919300   \n",
       "1        -0.72  482500  483000  473000   333848  159178309141   \n",
       "2        -1.68  825000  831000  821000    21686   17848391000   \n",
       "3         0.77   78300   80100   78300  1813544  143667793100   \n",
       "4        -1.86  640000  643000  627000   101519   64321516000   \n",
       "\n",
       "            Marcap      Stocks MarketId  \n",
       "0  355202061725000  5969782550      STK  \n",
       "1  112788000000000   234000000      STK  \n",
       "2   58433854000000    71174000      STK  \n",
       "3   57512186835000   728002365      STK  \n",
       "4   44684953119000    70592343      STK  "
      ]
     },
     "execution_count": 5,
     "metadata": {},
     "output_type": "execute_result"
    }
   ],
   "source": [
    "# 코스피 상장종목 전체 불러오기\n",
    "\n",
    "df_kospi = fdr.StockListing('KOSPI')\n",
    "df_kospi.head()"
   ]
  },
  {
   "cell_type": "code",
   "execution_count": 6,
   "id": "7e7d839c",
   "metadata": {},
   "outputs": [
    {
     "name": "stdout",
     "output_type": "stream",
     "text": [
      "<class 'pandas.core.frame.DataFrame'>\n",
      "RangeIndex: 942 entries, 0 to 941\n",
      "Data columns (total 17 columns):\n",
      " #   Column       Non-Null Count  Dtype  \n",
      "---  ------       --------------  -----  \n",
      " 0   Code         942 non-null    object \n",
      " 1   ISU_CD       942 non-null    object \n",
      " 2   Name         942 non-null    object \n",
      " 3   Market       942 non-null    object \n",
      " 4   Dept         942 non-null    object \n",
      " 5   Close        942 non-null    object \n",
      " 6   ChangeCode   942 non-null    object \n",
      " 7   Changes      942 non-null    int64  \n",
      " 8   ChagesRatio  942 non-null    float64\n",
      " 9   Open         942 non-null    int64  \n",
      " 10  High         942 non-null    int64  \n",
      " 11  Low          942 non-null    int64  \n",
      " 12  Volume       942 non-null    int64  \n",
      " 13  Amount       942 non-null    int64  \n",
      " 14  Marcap       942 non-null    int64  \n",
      " 15  Stocks       942 non-null    int64  \n",
      " 16  MarketId     942 non-null    object \n",
      "dtypes: float64(1), int64(8), object(8)\n",
      "memory usage: 125.2+ KB\n"
     ]
    }
   ],
   "source": [
    "# 코스피에 대한 정보 \n",
    "df_kospi.info()"
   ]
  },
  {
   "cell_type": "markdown",
   "id": "85cdeb2e",
   "metadata": {},
   "source": [
    "## 현대차 데이터 불러오기 (005380)"
   ]
  },
  {
   "cell_type": "code",
   "execution_count": 7,
   "id": "f5083742",
   "metadata": {},
   "outputs": [
    {
     "name": "stdout",
     "output_type": "stream",
     "text": [
      "              Open    High     Low   Close    Volume    Change\n",
      "Date                                                          \n",
      "2021-01-04  194000  211000  193500  207500   5651695  0.080729\n",
      "2021-01-05  207000  213000  205000  209500   3022595  0.009639\n",
      "2021-01-06  209500  211500  202500  203000   2848547 -0.031026\n",
      "2021-01-07  206000  210500  204500  206000   2478337  0.014778\n",
      "2021-01-08  240500  257000  225000  246000  19933702  0.194175\n",
      "...            ...     ...     ...     ...       ...       ...\n",
      "2021-12-24  210500  216500  210500  215500   1024355  0.031100\n",
      "2021-12-27  216500  217000  213500  213500    530039 -0.009281\n",
      "2021-12-28  215000  215000  211500  214000    880326  0.002342\n",
      "2021-12-29  213000  215000  211500  212000    659392 -0.009346\n",
      "2021-12-30  211500  212000  208500  209000    581448 -0.014151\n",
      "\n",
      "[248 rows x 6 columns]\n"
     ]
    }
   ],
   "source": [
    "# 현대차 데이터 불러오기 (005380)\n",
    "#HD_stock = fdr.DataReader('005380', '2021-01-01', '2021-12-31')\n",
    "\n",
    "start = (2021, 1, 1)\n",
    "start = datetime.datetime(*start)\n",
    "end = (2021, 12, 31)\n",
    "end = datetime.datetime(*end)\n",
    "HD_stock = fdr.DataReader('005380', start, end)\n",
    "print(HD_stock)"
   ]
  },
  {
   "cell_type": "markdown",
   "id": "bb004b89",
   "metadata": {},
   "source": [
    "### DataFrame형식의 HD_stock 데이터"
   ]
  },
  {
   "cell_type": "markdown",
   "id": "38b9dd8b",
   "metadata": {},
   "source": [
    "#### 위의 2021년 1월 1일부터 2021년 12월 31일까지의 데이터를 데이터 프레임의 형식으로 불러왔다. \n",
    "#### 248개의 row와 6개의 칼럼으로 구성되어 있는것을 확인할 수 있다."
   ]
  },
  {
   "cell_type": "code",
   "execution_count": 8,
   "id": "b093119d",
   "metadata": {},
   "outputs": [
    {
     "name": "stdout",
     "output_type": "stream",
     "text": [
      "<class 'pandas.core.frame.DataFrame'>\n"
     ]
    }
   ],
   "source": [
    "print(type(HD_stock))"
   ]
  },
  {
   "cell_type": "code",
   "execution_count": 9,
   "id": "52b0448d",
   "metadata": {},
   "outputs": [
    {
     "name": "stdout",
     "output_type": "stream",
     "text": [
      "<class 'pandas.core.frame.DataFrame'>\n",
      "DatetimeIndex: 248 entries, 2021-01-04 to 2021-12-30\n",
      "Data columns (total 6 columns):\n",
      " #   Column  Non-Null Count  Dtype  \n",
      "---  ------  --------------  -----  \n",
      " 0   Open    248 non-null    int64  \n",
      " 1   High    248 non-null    int64  \n",
      " 2   Low     248 non-null    int64  \n",
      " 3   Close   248 non-null    int64  \n",
      " 4   Volume  248 non-null    int64  \n",
      " 5   Change  248 non-null    float64\n",
      "dtypes: float64(1), int64(5)\n",
      "memory usage: 13.6 KB\n"
     ]
    }
   ],
   "source": [
    "# HD_stock 데이터 셋에서 null값이 있는지 확인\n",
    "# null값이 있는날을 확인하고 없앨 수 있다.\n",
    "HD_stock = HD_stock.dropna() \n",
    "HD_stock.info()   #확인 가능"
   ]
  },
  {
   "cell_type": "code",
   "execution_count": 10,
   "id": "49beaf10",
   "metadata": {},
   "outputs": [],
   "source": [
    "# min-max실행전에 우선 원래 데이터를 HD_stock1로 보관함\n",
    "HD_stock1 = HD_stock"
   ]
  },
  {
   "cell_type": "code",
   "execution_count": 11,
   "id": "1a2b00e2",
   "metadata": {},
   "outputs": [
    {
     "data": {
      "text/html": [
       "<div>\n",
       "<style scoped>\n",
       "    .dataframe tbody tr th:only-of-type {\n",
       "        vertical-align: middle;\n",
       "    }\n",
       "\n",
       "    .dataframe tbody tr th {\n",
       "        vertical-align: top;\n",
       "    }\n",
       "\n",
       "    .dataframe thead th {\n",
       "        text-align: right;\n",
       "    }\n",
       "</style>\n",
       "<table border=\"1\" class=\"dataframe\">\n",
       "  <thead>\n",
       "    <tr style=\"text-align: right;\">\n",
       "      <th></th>\n",
       "      <th>Open</th>\n",
       "      <th>High</th>\n",
       "      <th>Low</th>\n",
       "      <th>Close</th>\n",
       "      <th>Volume</th>\n",
       "      <th>Change</th>\n",
       "    </tr>\n",
       "    <tr>\n",
       "      <th>Date</th>\n",
       "      <th></th>\n",
       "      <th></th>\n",
       "      <th></th>\n",
       "      <th></th>\n",
       "      <th></th>\n",
       "      <th></th>\n",
       "    </tr>\n",
       "  </thead>\n",
       "  <tbody>\n",
       "    <tr>\n",
       "      <th>2021-01-04</th>\n",
       "      <td>194000</td>\n",
       "      <td>211000</td>\n",
       "      <td>193500</td>\n",
       "      <td>207500</td>\n",
       "      <td>5651695</td>\n",
       "      <td>0.080729</td>\n",
       "    </tr>\n",
       "    <tr>\n",
       "      <th>2021-01-05</th>\n",
       "      <td>207000</td>\n",
       "      <td>213000</td>\n",
       "      <td>205000</td>\n",
       "      <td>209500</td>\n",
       "      <td>3022595</td>\n",
       "      <td>0.009639</td>\n",
       "    </tr>\n",
       "    <tr>\n",
       "      <th>2021-01-06</th>\n",
       "      <td>209500</td>\n",
       "      <td>211500</td>\n",
       "      <td>202500</td>\n",
       "      <td>203000</td>\n",
       "      <td>2848547</td>\n",
       "      <td>-0.031026</td>\n",
       "    </tr>\n",
       "    <tr>\n",
       "      <th>2021-01-07</th>\n",
       "      <td>206000</td>\n",
       "      <td>210500</td>\n",
       "      <td>204500</td>\n",
       "      <td>206000</td>\n",
       "      <td>2478337</td>\n",
       "      <td>0.014778</td>\n",
       "    </tr>\n",
       "    <tr>\n",
       "      <th>2021-01-08</th>\n",
       "      <td>240500</td>\n",
       "      <td>257000</td>\n",
       "      <td>225000</td>\n",
       "      <td>246000</td>\n",
       "      <td>19933702</td>\n",
       "      <td>0.194175</td>\n",
       "    </tr>\n",
       "  </tbody>\n",
       "</table>\n",
       "</div>"
      ],
      "text/plain": [
       "              Open    High     Low   Close    Volume    Change\n",
       "Date                                                          \n",
       "2021-01-04  194000  211000  193500  207500   5651695  0.080729\n",
       "2021-01-05  207000  213000  205000  209500   3022595  0.009639\n",
       "2021-01-06  209500  211500  202500  203000   2848547 -0.031026\n",
       "2021-01-07  206000  210500  204500  206000   2478337  0.014778\n",
       "2021-01-08  240500  257000  225000  246000  19933702  0.194175"
      ]
     },
     "execution_count": 11,
     "metadata": {},
     "output_type": "execute_result"
    }
   ],
   "source": [
    "HD_stock1.head()"
   ]
  },
  {
   "cell_type": "markdown",
   "id": "a21ca21f",
   "metadata": {},
   "source": [
    "#### 데이터를 0 과 1 사이로 MinMax scaling 작업"
   ]
  },
  {
   "cell_type": "code",
   "execution_count": 12,
   "id": "7005b15e",
   "metadata": {},
   "outputs": [
    {
     "data": {
      "text/plain": [
       "array([[0.0375    , 0.17021277, 0.06382979, 0.18918919, 0.27024741],\n",
       "       [0.2       , 0.19148936, 0.22695035, 0.21621622, 0.13591107],\n",
       "       [0.23125   , 0.17553191, 0.19148936, 0.12837838, 0.12701792],\n",
       "       ...,\n",
       "       [0.3       , 0.21276596, 0.31914894, 0.27702703, 0.02644981],\n",
       "       [0.275     , 0.21276596, 0.31914894, 0.25      , 0.01516098],\n",
       "       [0.25625   , 0.18085106, 0.27659574, 0.20945946, 0.01117836]])"
      ]
     },
     "execution_count": 12,
     "metadata": {},
     "output_type": "execute_result"
    }
   ],
   "source": [
    "from sklearn.preprocessing import MinMaxScaler\n",
    "\n",
    "scaler = MinMaxScaler()\n",
    "# 스케일을 적용할 column을 정의합니다.\n",
    "scale_cols = ['Open', 'High', 'Low', 'Close', 'Volume']\n",
    "# 스케일 후 columns\n",
    "scaled = scaler.fit_transform(HD_stock[scale_cols])\n",
    "scaled"
   ]
  },
  {
   "cell_type": "code",
   "execution_count": 13,
   "id": "30381868",
   "metadata": {},
   "outputs": [
    {
     "data": {
      "text/html": [
       "<div>\n",
       "<style scoped>\n",
       "    .dataframe tbody tr th:only-of-type {\n",
       "        vertical-align: middle;\n",
       "    }\n",
       "\n",
       "    .dataframe tbody tr th {\n",
       "        vertical-align: top;\n",
       "    }\n",
       "\n",
       "    .dataframe thead th {\n",
       "        text-align: right;\n",
       "    }\n",
       "</style>\n",
       "<table border=\"1\" class=\"dataframe\">\n",
       "  <thead>\n",
       "    <tr style=\"text-align: right;\">\n",
       "      <th></th>\n",
       "      <th>Open</th>\n",
       "      <th>High</th>\n",
       "      <th>Low</th>\n",
       "      <th>Close</th>\n",
       "      <th>Volume</th>\n",
       "      <th>Change</th>\n",
       "    </tr>\n",
       "  </thead>\n",
       "  <tbody>\n",
       "    <tr>\n",
       "      <th>count</th>\n",
       "      <td>248.000000</td>\n",
       "      <td>248.000000</td>\n",
       "      <td>248.000000</td>\n",
       "      <td>248.000000</td>\n",
       "      <td>2.480000e+02</td>\n",
       "      <td>248.000000</td>\n",
       "    </tr>\n",
       "    <tr>\n",
       "      <th>mean</th>\n",
       "      <td>223770.161290</td>\n",
       "      <td>226645.161290</td>\n",
       "      <td>220729.838710</td>\n",
       "      <td>223381.048387</td>\n",
       "      <td>1.220738e+06</td>\n",
       "      <td>0.000588</td>\n",
       "    </tr>\n",
       "    <tr>\n",
       "      <th>std</th>\n",
       "      <td>15400.378458</td>\n",
       "      <td>16273.444526</td>\n",
       "      <td>14480.952056</td>\n",
       "      <td>15145.881835</td>\n",
       "      <td>1.743217e+06</td>\n",
       "      <td>0.022717</td>\n",
       "    </tr>\n",
       "    <tr>\n",
       "      <th>min</th>\n",
       "      <td>191000.000000</td>\n",
       "      <td>195000.000000</td>\n",
       "      <td>189000.000000</td>\n",
       "      <td>193500.000000</td>\n",
       "      <td>3.626760e+05</td>\n",
       "      <td>-0.062124</td>\n",
       "    </tr>\n",
       "    <tr>\n",
       "      <th>25%</th>\n",
       "      <td>210375.000000</td>\n",
       "      <td>212000.000000</td>\n",
       "      <td>208000.000000</td>\n",
       "      <td>209500.000000</td>\n",
       "      <td>6.071025e+05</td>\n",
       "      <td>-0.010923</td>\n",
       "    </tr>\n",
       "    <tr>\n",
       "      <th>50%</th>\n",
       "      <td>223750.000000</td>\n",
       "      <td>225000.000000</td>\n",
       "      <td>221250.000000</td>\n",
       "      <td>223500.000000</td>\n",
       "      <td>8.231965e+05</td>\n",
       "      <td>0.000000</td>\n",
       "    </tr>\n",
       "    <tr>\n",
       "      <th>75%</th>\n",
       "      <td>235125.000000</td>\n",
       "      <td>238000.000000</td>\n",
       "      <td>230875.000000</td>\n",
       "      <td>234250.000000</td>\n",
       "      <td>1.168822e+06</td>\n",
       "      <td>0.008457</td>\n",
       "    </tr>\n",
       "    <tr>\n",
       "      <th>max</th>\n",
       "      <td>271000.000000</td>\n",
       "      <td>289000.000000</td>\n",
       "      <td>259500.000000</td>\n",
       "      <td>267500.000000</td>\n",
       "      <td>1.993370e+07</td>\n",
       "      <td>0.194175</td>\n",
       "    </tr>\n",
       "  </tbody>\n",
       "</table>\n",
       "</div>"
      ],
      "text/plain": [
       "                Open           High            Low          Close  \\\n",
       "count     248.000000     248.000000     248.000000     248.000000   \n",
       "mean   223770.161290  226645.161290  220729.838710  223381.048387   \n",
       "std     15400.378458   16273.444526   14480.952056   15145.881835   \n",
       "min    191000.000000  195000.000000  189000.000000  193500.000000   \n",
       "25%    210375.000000  212000.000000  208000.000000  209500.000000   \n",
       "50%    223750.000000  225000.000000  221250.000000  223500.000000   \n",
       "75%    235125.000000  238000.000000  230875.000000  234250.000000   \n",
       "max    271000.000000  289000.000000  259500.000000  267500.000000   \n",
       "\n",
       "             Volume      Change  \n",
       "count  2.480000e+02  248.000000  \n",
       "mean   1.220738e+06    0.000588  \n",
       "std    1.743217e+06    0.022717  \n",
       "min    3.626760e+05   -0.062124  \n",
       "25%    6.071025e+05   -0.010923  \n",
       "50%    8.231965e+05    0.000000  \n",
       "75%    1.168822e+06    0.008457  \n",
       "max    1.993370e+07    0.194175  "
      ]
     },
     "execution_count": 13,
     "metadata": {},
     "output_type": "execute_result"
    }
   ],
   "source": [
    "HD_stock.describe()"
   ]
  },
  {
   "cell_type": "code",
   "execution_count": 14,
   "id": "7b071e06",
   "metadata": {},
   "outputs": [
    {
     "data": {
      "text/plain": [
       "array([[0.0375    , 0.17021277, 0.06382979, 0.18918919, 0.27024741],\n",
       "       [0.2       , 0.19148936, 0.22695035, 0.21621622, 0.13591107],\n",
       "       [0.23125   , 0.17553191, 0.19148936, 0.12837838, 0.12701792],\n",
       "       ...,\n",
       "       [0.3       , 0.21276596, 0.31914894, 0.27702703, 0.02644981],\n",
       "       [0.275     , 0.21276596, 0.31914894, 0.25      , 0.01516098],\n",
       "       [0.25625   , 0.18085106, 0.27659574, 0.20945946, 0.01117836]])"
      ]
     },
     "execution_count": 14,
     "metadata": {},
     "output_type": "execute_result"
    }
   ],
   "source": [
    "# 스케일링한 HD_stock을 scaled의 어래이 형식 확인\n",
    "scaled"
   ]
  },
  {
   "cell_type": "markdown",
   "id": "1286b1ad",
   "metadata": {},
   "source": [
    "####  array형식의 데이터를 DataFrame형식으로 변환"
   ]
  },
  {
   "cell_type": "code",
   "execution_count": 15,
   "id": "4e57741a",
   "metadata": {},
   "outputs": [],
   "source": [
    "df = pd.DataFrame(scaled, columns=scale_cols)"
   ]
  },
  {
   "cell_type": "code",
   "execution_count": 16,
   "id": "0e84820c",
   "metadata": {},
   "outputs": [
    {
     "data": {
      "text/html": [
       "<div>\n",
       "<style scoped>\n",
       "    .dataframe tbody tr th:only-of-type {\n",
       "        vertical-align: middle;\n",
       "    }\n",
       "\n",
       "    .dataframe tbody tr th {\n",
       "        vertical-align: top;\n",
       "    }\n",
       "\n",
       "    .dataframe thead th {\n",
       "        text-align: right;\n",
       "    }\n",
       "</style>\n",
       "<table border=\"1\" class=\"dataframe\">\n",
       "  <thead>\n",
       "    <tr style=\"text-align: right;\">\n",
       "      <th></th>\n",
       "      <th>Open</th>\n",
       "      <th>High</th>\n",
       "      <th>Low</th>\n",
       "      <th>Close</th>\n",
       "      <th>Volume</th>\n",
       "    </tr>\n",
       "  </thead>\n",
       "  <tbody>\n",
       "    <tr>\n",
       "      <th>0</th>\n",
       "      <td>0.03750</td>\n",
       "      <td>0.170213</td>\n",
       "      <td>0.063830</td>\n",
       "      <td>0.189189</td>\n",
       "      <td>0.270247</td>\n",
       "    </tr>\n",
       "    <tr>\n",
       "      <th>1</th>\n",
       "      <td>0.20000</td>\n",
       "      <td>0.191489</td>\n",
       "      <td>0.226950</td>\n",
       "      <td>0.216216</td>\n",
       "      <td>0.135911</td>\n",
       "    </tr>\n",
       "    <tr>\n",
       "      <th>2</th>\n",
       "      <td>0.23125</td>\n",
       "      <td>0.175532</td>\n",
       "      <td>0.191489</td>\n",
       "      <td>0.128378</td>\n",
       "      <td>0.127018</td>\n",
       "    </tr>\n",
       "    <tr>\n",
       "      <th>3</th>\n",
       "      <td>0.18750</td>\n",
       "      <td>0.164894</td>\n",
       "      <td>0.219858</td>\n",
       "      <td>0.168919</td>\n",
       "      <td>0.108102</td>\n",
       "    </tr>\n",
       "    <tr>\n",
       "      <th>4</th>\n",
       "      <td>0.61875</td>\n",
       "      <td>0.659574</td>\n",
       "      <td>0.510638</td>\n",
       "      <td>0.709459</td>\n",
       "      <td>1.000000</td>\n",
       "    </tr>\n",
       "    <tr>\n",
       "      <th>...</th>\n",
       "      <td>...</td>\n",
       "      <td>...</td>\n",
       "      <td>...</td>\n",
       "      <td>...</td>\n",
       "      <td>...</td>\n",
       "    </tr>\n",
       "    <tr>\n",
       "      <th>243</th>\n",
       "      <td>0.24375</td>\n",
       "      <td>0.228723</td>\n",
       "      <td>0.304965</td>\n",
       "      <td>0.297297</td>\n",
       "      <td>0.033809</td>\n",
       "    </tr>\n",
       "    <tr>\n",
       "      <th>244</th>\n",
       "      <td>0.31875</td>\n",
       "      <td>0.234043</td>\n",
       "      <td>0.347518</td>\n",
       "      <td>0.270270</td>\n",
       "      <td>0.008552</td>\n",
       "    </tr>\n",
       "    <tr>\n",
       "      <th>245</th>\n",
       "      <td>0.30000</td>\n",
       "      <td>0.212766</td>\n",
       "      <td>0.319149</td>\n",
       "      <td>0.277027</td>\n",
       "      <td>0.026450</td>\n",
       "    </tr>\n",
       "    <tr>\n",
       "      <th>246</th>\n",
       "      <td>0.27500</td>\n",
       "      <td>0.212766</td>\n",
       "      <td>0.319149</td>\n",
       "      <td>0.250000</td>\n",
       "      <td>0.015161</td>\n",
       "    </tr>\n",
       "    <tr>\n",
       "      <th>247</th>\n",
       "      <td>0.25625</td>\n",
       "      <td>0.180851</td>\n",
       "      <td>0.276596</td>\n",
       "      <td>0.209459</td>\n",
       "      <td>0.011178</td>\n",
       "    </tr>\n",
       "  </tbody>\n",
       "</table>\n",
       "<p>248 rows × 5 columns</p>\n",
       "</div>"
      ],
      "text/plain": [
       "        Open      High       Low     Close    Volume\n",
       "0    0.03750  0.170213  0.063830  0.189189  0.270247\n",
       "1    0.20000  0.191489  0.226950  0.216216  0.135911\n",
       "2    0.23125  0.175532  0.191489  0.128378  0.127018\n",
       "3    0.18750  0.164894  0.219858  0.168919  0.108102\n",
       "4    0.61875  0.659574  0.510638  0.709459  1.000000\n",
       "..       ...       ...       ...       ...       ...\n",
       "243  0.24375  0.228723  0.304965  0.297297  0.033809\n",
       "244  0.31875  0.234043  0.347518  0.270270  0.008552\n",
       "245  0.30000  0.212766  0.319149  0.277027  0.026450\n",
       "246  0.27500  0.212766  0.319149  0.250000  0.015161\n",
       "247  0.25625  0.180851  0.276596  0.209459  0.011178\n",
       "\n",
       "[248 rows x 5 columns]"
      ]
     },
     "execution_count": 16,
     "metadata": {},
     "output_type": "execute_result"
    }
   ],
   "source": [
    "df"
   ]
  },
  {
   "cell_type": "code",
   "execution_count": 17,
   "id": "6cb0d380",
   "metadata": {},
   "outputs": [],
   "source": [
    "import tensorflow as tf"
   ]
  },
  {
   "cell_type": "code",
   "execution_count": 18,
   "id": "dec35886",
   "metadata": {},
   "outputs": [
    {
     "data": {
      "text/html": [
       "<div>\n",
       "<style scoped>\n",
       "    .dataframe tbody tr th:only-of-type {\n",
       "        vertical-align: middle;\n",
       "    }\n",
       "\n",
       "    .dataframe tbody tr th {\n",
       "        vertical-align: top;\n",
       "    }\n",
       "\n",
       "    .dataframe thead th {\n",
       "        text-align: right;\n",
       "    }\n",
       "</style>\n",
       "<table border=\"1\" class=\"dataframe\">\n",
       "  <thead>\n",
       "    <tr style=\"text-align: right;\">\n",
       "      <th></th>\n",
       "      <th>Open</th>\n",
       "      <th>High</th>\n",
       "      <th>Low</th>\n",
       "      <th>Close</th>\n",
       "      <th>Volume</th>\n",
       "    </tr>\n",
       "  </thead>\n",
       "  <tbody>\n",
       "    <tr>\n",
       "      <th>count</th>\n",
       "      <td>248.000000</td>\n",
       "      <td>248.000000</td>\n",
       "      <td>248.000000</td>\n",
       "      <td>248.000000</td>\n",
       "      <td>248.000000</td>\n",
       "    </tr>\n",
       "    <tr>\n",
       "      <th>mean</th>\n",
       "      <td>0.409627</td>\n",
       "      <td>0.336651</td>\n",
       "      <td>0.450069</td>\n",
       "      <td>0.403798</td>\n",
       "      <td>0.043843</td>\n",
       "    </tr>\n",
       "    <tr>\n",
       "      <th>std</th>\n",
       "      <td>0.192505</td>\n",
       "      <td>0.173122</td>\n",
       "      <td>0.205404</td>\n",
       "      <td>0.204674</td>\n",
       "      <td>0.089071</td>\n",
       "    </tr>\n",
       "    <tr>\n",
       "      <th>min</th>\n",
       "      <td>0.000000</td>\n",
       "      <td>0.000000</td>\n",
       "      <td>0.000000</td>\n",
       "      <td>0.000000</td>\n",
       "      <td>0.000000</td>\n",
       "    </tr>\n",
       "    <tr>\n",
       "      <th>25%</th>\n",
       "      <td>0.242187</td>\n",
       "      <td>0.180851</td>\n",
       "      <td>0.269504</td>\n",
       "      <td>0.216216</td>\n",
       "      <td>0.012489</td>\n",
       "    </tr>\n",
       "    <tr>\n",
       "      <th>50%</th>\n",
       "      <td>0.409375</td>\n",
       "      <td>0.319149</td>\n",
       "      <td>0.457447</td>\n",
       "      <td>0.405405</td>\n",
       "      <td>0.023531</td>\n",
       "    </tr>\n",
       "    <tr>\n",
       "      <th>75%</th>\n",
       "      <td>0.551562</td>\n",
       "      <td>0.457447</td>\n",
       "      <td>0.593972</td>\n",
       "      <td>0.550676</td>\n",
       "      <td>0.041191</td>\n",
       "    </tr>\n",
       "    <tr>\n",
       "      <th>max</th>\n",
       "      <td>1.000000</td>\n",
       "      <td>1.000000</td>\n",
       "      <td>1.000000</td>\n",
       "      <td>1.000000</td>\n",
       "      <td>1.000000</td>\n",
       "    </tr>\n",
       "  </tbody>\n",
       "</table>\n",
       "</div>"
      ],
      "text/plain": [
       "             Open        High         Low       Close      Volume\n",
       "count  248.000000  248.000000  248.000000  248.000000  248.000000\n",
       "mean     0.409627    0.336651    0.450069    0.403798    0.043843\n",
       "std      0.192505    0.173122    0.205404    0.204674    0.089071\n",
       "min      0.000000    0.000000    0.000000    0.000000    0.000000\n",
       "25%      0.242187    0.180851    0.269504    0.216216    0.012489\n",
       "50%      0.409375    0.319149    0.457447    0.405405    0.023531\n",
       "75%      0.551562    0.457447    0.593972    0.550676    0.041191\n",
       "max      1.000000    1.000000    1.000000    1.000000    1.000000"
      ]
     },
     "execution_count": 18,
     "metadata": {},
     "output_type": "execute_result"
    }
   ],
   "source": [
    "from sklearn.preprocessing import MinMaxScaler\n",
    "\n",
    "df.sort_index(ascending=False).reset_index(drop=True)\n",
    "\n",
    "scaler = MinMaxScaler()\n",
    "scale_cols = ['Open', 'High', 'Low', 'Close', 'Volume']\n",
    "df_scaled = scaler.fit_transform(df[scale_cols])\n",
    "df_scaled = pd.DataFrame(df_scaled)\n",
    "df_scaled.columns = scale_cols\n",
    "\n",
    "df_scaled.describe()"
   ]
  },
  {
   "cell_type": "markdown",
   "id": "6ff419b2",
   "metadata": {},
   "source": [
    "## TensroFlow Dataset을 활용한 시퀀스 데이터셋 구성"
   ]
  },
  {
   "cell_type": "markdown",
   "id": "25c69a87",
   "metadata": {},
   "source": [
    "### Hyperparameter를 정의"
   ]
  },
  {
   "cell_type": "code",
   "execution_count": 19,
   "id": "071728a4",
   "metadata": {},
   "outputs": [],
   "source": [
    "TEST_SIZE = 75\n",
    "WINDOW_SIZE = 60\n",
    "\n",
    "train = df_scaled[:-TEST_SIZE]\n",
    "test = df_scaled[-TEST_SIZE:]"
   ]
  },
  {
   "cell_type": "markdown",
   "id": "55f2925b",
   "metadata": {},
   "source": [
    "#### dataset 만들기"
   ]
  },
  {
   "cell_type": "code",
   "execution_count": 20,
   "id": "ba81ab1f",
   "metadata": {},
   "outputs": [],
   "source": [
    "def make_dataset(data, label, window_size=60):\n",
    "    feature_list = []\n",
    "    label_list = []\n",
    "    for i in range(len(data) - window_size):\n",
    "        feature_list.append(np.array(data.iloc[i:i+window_size]))\n",
    "        label_list.append(np.array(label.iloc[i+window_size]))\n",
    "    return np.array(feature_list), np.array(label_list)"
   ]
  },
  {
   "cell_type": "markdown",
   "id": "5df49bc7",
   "metadata": {},
   "source": [
    "#### window_size는 얼마동안(기간)의 주가 데이터에 기반하여 \n",
    "#### 다음날 종가를 예측할 것인지 정하는 parameter입니다.\n",
    "#### 즉, 과거 60일을 기반으로 내일 데이터를 예측"
   ]
  },
  {
   "cell_type": "code",
   "execution_count": 21,
   "id": "b719252d",
   "metadata": {},
   "outputs": [
    {
     "data": {
      "text/plain": [
       "((107, 20, 4), (46, 20, 4))"
      ]
     },
     "execution_count": 21,
     "metadata": {},
     "output_type": "execute_result"
    }
   ],
   "source": [
    "from sklearn.model_selection import train_test_split\n",
    "\n",
    "feature_cols = ['Open', 'High', 'Low', 'Volume']\n",
    "label_cols = ['Close']\n",
    "\n",
    "train_feature = train[feature_cols]\n",
    "train_label = train[label_cols]\n",
    "\n",
    "train_feature, train_label = make_dataset(train_feature, train_label, 20)\n",
    "\n",
    "x_train, x_valid, y_train, y_valid = train_test_split(train_feature, train_label, test_size=0.3)\n",
    "x_train.shape, x_valid.shape"
   ]
  },
  {
   "cell_type": "code",
   "execution_count": 22,
   "id": "8adb8193",
   "metadata": {},
   "outputs": [
    {
     "data": {
      "text/plain": [
       "((75, 4), (75, 1))"
      ]
     },
     "execution_count": 22,
     "metadata": {},
     "output_type": "execute_result"
    }
   ],
   "source": [
    "test_feature = test[feature_cols]\n",
    "test_label = test[label_cols]\n",
    "\n",
    "test_feature.shape, test_label.shape"
   ]
  },
  {
   "cell_type": "code",
   "execution_count": 23,
   "id": "29450f8a",
   "metadata": {},
   "outputs": [
    {
     "data": {
      "text/plain": [
       "((55, 20, 4), (55, 1))"
      ]
     },
     "execution_count": 23,
     "metadata": {},
     "output_type": "execute_result"
    }
   ],
   "source": [
    "test_feature, test_label = make_dataset(test_feature, test_label, 20)\n",
    "test_feature.shape, test_label.shape"
   ]
  },
  {
   "cell_type": "markdown",
   "id": "6de54ec0",
   "metadata": {},
   "source": [
    "### 모형 학습"
   ]
  },
  {
   "cell_type": "code",
   "execution_count": 24,
   "id": "e594d498",
   "metadata": {},
   "outputs": [],
   "source": [
    "### 모형학습\n",
    "\n",
    "from keras.models import Sequential\n",
    "from keras.layers import Dense\n",
    "from keras.callbacks import EarlyStopping, ModelCheckpoint\n",
    "from keras.layers import LSTM\n",
    "\n",
    "model = Sequential()\n",
    "model.add(LSTM(16, \n",
    "               input_shape=(train_feature.shape[1], train_feature.shape[2]), \n",
    "               activation='relu', \n",
    "               return_sequences=False)\n",
    "          )\n",
    "\n",
    "model.add(Dense(1))"
   ]
  },
  {
   "cell_type": "code",
   "execution_count": 25,
   "id": "6de77809",
   "metadata": {},
   "outputs": [
    {
     "name": "stdout",
     "output_type": "stream",
     "text": [
      "Model: \"sequential\"\n",
      "_________________________________________________________________\n",
      " Layer (type)                Output Shape              Param #   \n",
      "=================================================================\n",
      " lstm (LSTM)                 (None, 16)                1344      \n",
      "                                                                 \n",
      " dense (Dense)               (None, 1)                 17        \n",
      "                                                                 \n",
      "=================================================================\n",
      "Total params: 1,361\n",
      "Trainable params: 1,361\n",
      "Non-trainable params: 0\n",
      "_________________________________________________________________\n",
      "None\n"
     ]
    }
   ],
   "source": [
    "print(model.summary())"
   ]
  },
  {
   "cell_type": "markdown",
   "id": "0a5c4211",
   "metadata": {},
   "source": [
    "#### 에폭 횟수(학습용 전체데이터를 몇 회 반복해서 학습할 것인가 입력)\n",
    "#### earlystopping은 5번, epoch통안 val_loss 개선이 없다면 학습을 멈춤.\n",
    "#### # val_loss 기준 체크포인터도 생성."
   ]
  },
  {
   "cell_type": "code",
   "execution_count": 26,
   "id": "b3449185",
   "metadata": {},
   "outputs": [
    {
     "name": "stdout",
     "output_type": "stream",
     "text": [
      "Epoch 1/50\n",
      "5/7 [====================>.........] - ETA: 0s - loss: 0.2599 \n",
      "Epoch 1: val_loss improved from inf to 0.17659, saving model to model\\tmp_checkpoint.h5\n",
      "7/7 [==============================] - 8s 264ms/step - loss: 0.2408 - val_loss: 0.1766\n",
      "Epoch 2/50\n",
      "5/7 [====================>.........] - ETA: 0s - loss: 0.1545\n",
      "Epoch 2: val_loss improved from 0.17659 to 0.08695, saving model to model\\tmp_checkpoint.h5\n",
      "7/7 [==============================] - 0s 51ms/step - loss: 0.1404 - val_loss: 0.0870\n",
      "Epoch 3/50\n",
      "5/7 [====================>.........] - ETA: 0s - loss: 0.0633\n",
      "Epoch 3: val_loss improved from 0.08695 to 0.02225, saving model to model\\tmp_checkpoint.h5\n",
      "7/7 [==============================] - 0s 51ms/step - loss: 0.0560 - val_loss: 0.0223\n",
      "Epoch 4/50\n",
      "5/7 [====================>.........] - ETA: 0s - loss: 0.0139\n",
      "Epoch 4: val_loss improved from 0.02225 to 0.01205, saving model to model\\tmp_checkpoint.h5\n",
      "7/7 [==============================] - 0s 51ms/step - loss: 0.0136 - val_loss: 0.0120\n",
      "Epoch 5/50\n",
      "5/7 [====================>.........] - ETA: 0s - loss: 0.0132\n",
      "Epoch 5: val_loss improved from 0.01205 to 0.00834, saving model to model\\tmp_checkpoint.h5\n",
      "7/7 [==============================] - 0s 52ms/step - loss: 0.0145 - val_loss: 0.0083\n",
      "Epoch 6/50\n",
      "5/7 [====================>.........] - ETA: 0s - loss: 0.0083\n",
      "Epoch 6: val_loss improved from 0.00834 to 0.00728, saving model to model\\tmp_checkpoint.h5\n",
      "7/7 [==============================] - 0s 51ms/step - loss: 0.0075 - val_loss: 0.0073\n",
      "Epoch 7/50\n",
      "5/7 [====================>.........] - ETA: 0s - loss: 0.0078\n",
      "Epoch 7: val_loss did not improve from 0.00728\n",
      "7/7 [==============================] - 0s 47ms/step - loss: 0.0082 - val_loss: 0.0080\n",
      "Epoch 8/50\n",
      "5/7 [====================>.........] - ETA: 0s - loss: 0.0063\n",
      "Epoch 8: val_loss improved from 0.00728 to 0.00584, saving model to model\\tmp_checkpoint.h5\n",
      "7/7 [==============================] - 0s 50ms/step - loss: 0.0069 - val_loss: 0.0058\n",
      "Epoch 9/50\n",
      "5/7 [====================>.........] - ETA: 0s - loss: 0.0059\n",
      "Epoch 9: val_loss improved from 0.00584 to 0.00553, saving model to model\\tmp_checkpoint.h5\n",
      "7/7 [==============================] - 0s 50ms/step - loss: 0.0061 - val_loss: 0.0055\n",
      "Epoch 10/50\n",
      "5/7 [====================>.........] - ETA: 0s - loss: 0.0060\n",
      "Epoch 10: val_loss improved from 0.00553 to 0.00519, saving model to model\\tmp_checkpoint.h5\n",
      "7/7 [==============================] - 0s 51ms/step - loss: 0.0064 - val_loss: 0.0052\n",
      "Epoch 11/50\n",
      "5/7 [====================>.........] - ETA: 0s - loss: 0.0057\n",
      "Epoch 11: val_loss did not improve from 0.00519\n",
      "7/7 [==============================] - 0s 47ms/step - loss: 0.0060 - val_loss: 0.0053\n",
      "Epoch 12/50\n",
      "5/7 [====================>.........] - ETA: 0s - loss: 0.0064\n",
      "Epoch 12: val_loss improved from 0.00519 to 0.00502, saving model to model\\tmp_checkpoint.h5\n",
      "7/7 [==============================] - 0s 50ms/step - loss: 0.0058 - val_loss: 0.0050\n",
      "Epoch 13/50\n",
      "5/7 [====================>.........] - ETA: 0s - loss: 0.0057\n",
      "Epoch 13: val_loss improved from 0.00502 to 0.00475, saving model to model\\tmp_checkpoint.h5\n",
      "7/7 [==============================] - 0s 50ms/step - loss: 0.0056 - val_loss: 0.0048\n",
      "Epoch 14/50\n",
      "5/7 [====================>.........] - ETA: 0s - loss: 0.0056\n",
      "Epoch 14: val_loss improved from 0.00475 to 0.00470, saving model to model\\tmp_checkpoint.h5\n",
      "7/7 [==============================] - 0s 50ms/step - loss: 0.0055 - val_loss: 0.0047\n",
      "Epoch 15/50\n",
      "5/7 [====================>.........] - ETA: 0s - loss: 0.0051\n",
      "Epoch 15: val_loss improved from 0.00470 to 0.00466, saving model to model\\tmp_checkpoint.h5\n",
      "7/7 [==============================] - 0s 52ms/step - loss: 0.0055 - val_loss: 0.0047\n",
      "Epoch 16/50\n",
      "5/7 [====================>.........] - ETA: 0s - loss: 0.0055\n",
      "Epoch 16: val_loss improved from 0.00466 to 0.00450, saving model to model\\tmp_checkpoint.h5\n",
      "7/7 [==============================] - 0s 52ms/step - loss: 0.0055 - val_loss: 0.0045\n",
      "Epoch 17/50\n",
      "5/7 [====================>.........] - ETA: 0s - loss: 0.0059\n",
      "Epoch 17: val_loss did not improve from 0.00450\n",
      "7/7 [==============================] - 0s 47ms/step - loss: 0.0054 - val_loss: 0.0046\n",
      "Epoch 18/50\n",
      "5/7 [====================>.........] - ETA: 0s - loss: 0.0054\n",
      "Epoch 18: val_loss improved from 0.00450 to 0.00444, saving model to model\\tmp_checkpoint.h5\n",
      "7/7 [==============================] - 0s 51ms/step - loss: 0.0053 - val_loss: 0.0044\n",
      "Epoch 19/50\n",
      "5/7 [====================>.........] - ETA: 0s - loss: 0.0054\n",
      "Epoch 19: val_loss improved from 0.00444 to 0.00434, saving model to model\\tmp_checkpoint.h5\n",
      "7/7 [==============================] - 0s 53ms/step - loss: 0.0052 - val_loss: 0.0043\n",
      "Epoch 20/50\n",
      "5/7 [====================>.........] - ETA: 0s - loss: 0.0052\n",
      "Epoch 20: val_loss improved from 0.00434 to 0.00430, saving model to model\\tmp_checkpoint.h5\n",
      "7/7 [==============================] - 0s 51ms/step - loss: 0.0052 - val_loss: 0.0043\n",
      "Epoch 21/50\n",
      "5/7 [====================>.........] - ETA: 0s - loss: 0.0053\n",
      "Epoch 21: val_loss did not improve from 0.00430\n",
      "7/7 [==============================] - 0s 48ms/step - loss: 0.0052 - val_loss: 0.0043\n",
      "Epoch 22/50\n",
      "5/7 [====================>.........] - ETA: 0s - loss: 0.0058\n",
      "Epoch 22: val_loss improved from 0.00430 to 0.00425, saving model to model\\tmp_checkpoint.h5\n",
      "7/7 [==============================] - 0s 52ms/step - loss: 0.0052 - val_loss: 0.0043\n",
      "Epoch 23/50\n",
      "5/7 [====================>.........] - ETA: 0s - loss: 0.0056\n",
      "Epoch 23: val_loss did not improve from 0.00425\n",
      "7/7 [==============================] - 0s 47ms/step - loss: 0.0051 - val_loss: 0.0044\n",
      "Epoch 24/50\n",
      "5/7 [====================>.........] - ETA: 0s - loss: 0.0053\n",
      "Epoch 24: val_loss improved from 0.00425 to 0.00424, saving model to model\\tmp_checkpoint.h5\n",
      "7/7 [==============================] - 0s 50ms/step - loss: 0.0051 - val_loss: 0.0042\n",
      "Epoch 25/50\n",
      "5/7 [====================>.........] - ETA: 0s - loss: 0.0054\n",
      "Epoch 25: val_loss improved from 0.00424 to 0.00417, saving model to model\\tmp_checkpoint.h5\n",
      "7/7 [==============================] - 0s 50ms/step - loss: 0.0050 - val_loss: 0.0042\n",
      "Epoch 26/50\n",
      "5/7 [====================>.........] - ETA: 0s - loss: 0.0050\n",
      "Epoch 26: val_loss did not improve from 0.00417\n",
      "7/7 [==============================] - 0s 46ms/step - loss: 0.0052 - val_loss: 0.0042\n",
      "Epoch 27/50\n",
      "5/7 [====================>.........] - ETA: 0s - loss: 0.0052\n",
      "Epoch 27: val_loss did not improve from 0.00417\n",
      "7/7 [==============================] - 0s 46ms/step - loss: 0.0051 - val_loss: 0.0044\n",
      "Epoch 28/50\n",
      "5/7 [====================>.........] - ETA: 0s - loss: 0.0047\n",
      "Epoch 28: val_loss improved from 0.00417 to 0.00414, saving model to model\\tmp_checkpoint.h5\n",
      "7/7 [==============================] - 0s 50ms/step - loss: 0.0050 - val_loss: 0.0041\n",
      "Epoch 29/50\n",
      "5/7 [====================>.........] - ETA: 0s - loss: 0.0057\n",
      "Epoch 29: val_loss did not improve from 0.00414\n",
      "7/7 [==============================] - 0s 46ms/step - loss: 0.0052 - val_loss: 0.0041\n",
      "Epoch 30/50\n",
      "5/7 [====================>.........] - ETA: 0s - loss: 0.0050\n",
      "Epoch 30: val_loss did not improve from 0.00414\n",
      "7/7 [==============================] - 0s 46ms/step - loss: 0.0050 - val_loss: 0.0043\n",
      "Epoch 31/50\n",
      "5/7 [====================>.........] - ETA: 0s - loss: 0.0047\n",
      "Epoch 31: val_loss improved from 0.00414 to 0.00410, saving model to model\\tmp_checkpoint.h5\n",
      "7/7 [==============================] - 0s 51ms/step - loss: 0.0050 - val_loss: 0.0041\n",
      "Epoch 32/50\n",
      "5/7 [====================>.........] - ETA: 0s - loss: 0.0056\n",
      "Epoch 32: val_loss improved from 0.00410 to 0.00409, saving model to model\\tmp_checkpoint.h5\n",
      "7/7 [==============================] - 0s 51ms/step - loss: 0.0050 - val_loss: 0.0041\n",
      "Epoch 33/50\n",
      "5/7 [====================>.........] - ETA: 0s - loss: 0.0056\n",
      "Epoch 33: val_loss improved from 0.00409 to 0.00407, saving model to model\\tmp_checkpoint.h5\n",
      "7/7 [==============================] - 0s 50ms/step - loss: 0.0049 - val_loss: 0.0041\n",
      "Epoch 34/50\n",
      "5/7 [====================>.........] - ETA: 0s - loss: 0.0050\n",
      "Epoch 34: val_loss did not improve from 0.00407\n",
      "7/7 [==============================] - 0s 47ms/step - loss: 0.0049 - val_loss: 0.0041\n",
      "Epoch 35/50\n",
      "5/7 [====================>.........] - ETA: 0s - loss: 0.0050\n",
      "Epoch 35: val_loss improved from 0.00407 to 0.00407, saving model to model\\tmp_checkpoint.h5\n",
      "7/7 [==============================] - 0s 50ms/step - loss: 0.0049 - val_loss: 0.0041\n",
      "Epoch 36/50\n",
      "5/7 [====================>.........] - ETA: 0s - loss: 0.0052\n",
      "Epoch 36: val_loss improved from 0.00407 to 0.00398, saving model to model\\tmp_checkpoint.h5\n",
      "7/7 [==============================] - 0s 51ms/step - loss: 0.0048 - val_loss: 0.0040\n",
      "Epoch 37/50\n",
      "5/7 [====================>.........] - ETA: 0s - loss: 0.0041\n",
      "Epoch 37: val_loss did not improve from 0.00398\n",
      "7/7 [==============================] - 0s 48ms/step - loss: 0.0048 - val_loss: 0.0040\n",
      "Epoch 38/50\n",
      "5/7 [====================>.........] - ETA: 0s - loss: 0.0049\n",
      "Epoch 38: val_loss did not improve from 0.00398\n",
      "7/7 [==============================] - 0s 47ms/step - loss: 0.0048 - val_loss: 0.0040\n",
      "Epoch 39/50\n",
      "5/7 [====================>.........] - ETA: 0s - loss: 0.0049\n",
      "Epoch 39: val_loss did not improve from 0.00398\n",
      "7/7 [==============================] - 0s 47ms/step - loss: 0.0049 - val_loss: 0.0042\n",
      "Epoch 40/50\n",
      "5/7 [====================>.........] - ETA: 0s - loss: 0.0047\n",
      "Epoch 40: val_loss improved from 0.00398 to 0.00394, saving model to model\\tmp_checkpoint.h5\n",
      "7/7 [==============================] - 0s 51ms/step - loss: 0.0047 - val_loss: 0.0039\n",
      "Epoch 41/50\n",
      "5/7 [====================>.........] - ETA: 0s - loss: 0.0039\n",
      "Epoch 41: val_loss improved from 0.00394 to 0.00393, saving model to model\\tmp_checkpoint.h5\n",
      "7/7 [==============================] - 0s 50ms/step - loss: 0.0048 - val_loss: 0.0039\n",
      "Epoch 42/50\n",
      "5/7 [====================>.........] - ETA: 0s - loss: 0.0048\n",
      "Epoch 42: val_loss did not improve from 0.00393\n",
      "7/7 [==============================] - 0s 47ms/step - loss: 0.0048 - val_loss: 0.0040\n",
      "Epoch 43/50\n",
      "5/7 [====================>.........] - ETA: 0s - loss: 0.0044\n",
      "Epoch 43: val_loss improved from 0.00393 to 0.00390, saving model to model\\tmp_checkpoint.h5\n",
      "7/7 [==============================] - 0s 51ms/step - loss: 0.0048 - val_loss: 0.0039\n",
      "Epoch 44/50\n",
      "5/7 [====================>.........] - ETA: 0s - loss: 0.0049\n",
      "Epoch 44: val_loss did not improve from 0.00390\n",
      "7/7 [==============================] - 0s 47ms/step - loss: 0.0049 - val_loss: 0.0041\n",
      "Epoch 45/50\n",
      "5/7 [====================>.........] - ETA: 0s - loss: 0.0045\n",
      "Epoch 45: val_loss improved from 0.00390 to 0.00387, saving model to model\\tmp_checkpoint.h5\n",
      "7/7 [==============================] - 0s 50ms/step - loss: 0.0047 - val_loss: 0.0039\n",
      "Epoch 46/50\n",
      "5/7 [====================>.........] - ETA: 0s - loss: 0.0052\n",
      "Epoch 46: val_loss did not improve from 0.00387\n",
      "7/7 [==============================] - 0s 47ms/step - loss: 0.0048 - val_loss: 0.0039\n",
      "Epoch 47/50\n",
      "5/7 [====================>.........] - ETA: 0s - loss: 0.0049\n",
      "Epoch 47: val_loss did not improve from 0.00387\n",
      "7/7 [==============================] - 0s 47ms/step - loss: 0.0048 - val_loss: 0.0040\n",
      "Epoch 48/50\n",
      "5/7 [====================>.........] - ETA: 0s - loss: 0.0044\n",
      "Epoch 48: val_loss improved from 0.00387 to 0.00382, saving model to model\\tmp_checkpoint.h5\n",
      "7/7 [==============================] - 0s 51ms/step - loss: 0.0048 - val_loss: 0.0038\n",
      "Epoch 49/50\n",
      "5/7 [====================>.........] - ETA: 0s - loss: 0.0043\n",
      "Epoch 49: val_loss did not improve from 0.00382\n",
      "7/7 [==============================] - 0s 47ms/step - loss: 0.0047 - val_loss: 0.0040\n",
      "Epoch 50/50\n",
      "5/7 [====================>.........] - ETA: 0s - loss: 0.0048\n",
      "Epoch 50: val_loss improved from 0.00382 to 0.00380, saving model to model\\tmp_checkpoint.h5\n",
      "7/7 [==============================] - 0s 51ms/step - loss: 0.0046 - val_loss: 0.0038\n"
     ]
    }
   ],
   "source": [
    "import os\n",
    "\n",
    "model.compile(loss='mean_squared_error', optimizer='adam')\n",
    "early_stop = EarlyStopping(monitor='val_loss', patience=5)\n",
    "\n",
    "model_path = 'model'\n",
    "filename = os.path.join(model_path, 'tmp_checkpoint.h5')\n",
    "checkpoint = ModelCheckpoint(filename, monitor='val_loss', verbose=1, save_best_only=True, mode='auto')\n",
    "\n",
    "history = model.fit(x_train, y_train, \n",
    "                                    epochs=50, \n",
    "                                    batch_size=16,\n",
    "                                    validation_data=(x_valid, y_valid), \n",
    "                                    callbacks=[early_stop, checkpoint])"
   ]
  },
  {
   "cell_type": "markdown",
   "id": "74ccc150",
   "metadata": {},
   "source": [
    "#### 저장한 ModelCheckpoint 를 로드."
   ]
  },
  {
   "cell_type": "code",
   "execution_count": 27,
   "id": "d231639d",
   "metadata": {},
   "outputs": [
    {
     "name": "stdout",
     "output_type": "stream",
     "text": [
      "2/2 [==============================] - 1s 6ms/step\n"
     ]
    },
    {
     "data": {
      "text/plain": [
       "(55, 1)"
      ]
     },
     "execution_count": 27,
     "metadata": {},
     "output_type": "execute_result"
    }
   ],
   "source": [
    "model.load_weights(filename)\n",
    "pred = model.predict(test_feature)\n",
    "\n",
    "pred.shape"
   ]
  },
  {
   "cell_type": "markdown",
   "id": "3ca48681",
   "metadata": {},
   "source": [
    "#### test_feature를 활용하여 예측을 진행."
   ]
  },
  {
   "cell_type": "markdown",
   "id": "eeb4c6b8",
   "metadata": {},
   "source": [
    "## 예측 데이터 시각화 \n",
    "#### 0과 1사이의 값으로 스케일링했던 주가를 환원하지 않고 그래프를 그려보았다."
   ]
  },
  {
   "cell_type": "code",
   "execution_count": 28,
   "id": "590f4c12",
   "metadata": {},
   "outputs": [
    {
     "data": {
      "image/png": "[encoded data removed]",
      "text/plain": [
       "<Figure size 640x480 with 1 Axes>"
      ]
     },
     "metadata": {},
     "output_type": "display_data"
    }
   ],
   "source": [
    "plt.figure()\n",
    "plt.plot(test_label, label = 'actual')\n",
    "plt.plot(pred, label = 'prediction')\n",
    "plt.legend()\n",
    "plt.show()"
   ]
  },
  {
   "cell_type": "code",
   "execution_count": 29,
   "id": "7b8d6cba",
   "metadata": {},
   "outputs": [
    {
     "data": {
      "text/plain": [
       "array([[0.1700626 ],\n",
       "       [0.18314928],\n",
       "       [0.18712005],\n",
       "       [0.19821958],\n",
       "       [0.2056724 ],\n",
       "       [0.2092658 ],\n",
       "       [0.20721656],\n",
       "       [0.20787987],\n",
       "       [0.22142303],\n",
       "       [0.23546535],\n",
       "       [0.24005762],\n",
       "       [0.23819464],\n",
       "       [0.23246488],\n",
       "       [0.22887015],\n",
       "       [0.22963601],\n",
       "       [0.23745082],\n",
       "       [0.25345552],\n",
       "       [0.25892156],\n",
       "       [0.26617095],\n",
       "       [0.25594702],\n",
       "       [0.23824385],\n",
       "       [0.22603095],\n",
       "       [0.22345342],\n",
       "       [0.21791734],\n",
       "       [0.20973018],\n",
       "       [0.2038947 ],\n",
       "       [0.21518414],\n",
       "       [0.22074702],\n",
       "       [0.24450669],\n",
       "       [0.2517103 ],\n",
       "       [0.25194442],\n",
       "       [0.24135026],\n",
       "       [0.21377751],\n",
       "       [0.19292964],\n",
       "       [0.17359275],\n",
       "       [0.16047154],\n",
       "       [0.16871378],\n",
       "       [0.16750018],\n",
       "       [0.17215581],\n",
       "       [0.185394  ],\n",
       "       [0.19037184],\n",
       "       [0.19158626],\n",
       "       [0.2044926 ],\n",
       "       [0.20605284],\n",
       "       [0.21329959],\n",
       "       [0.21915686],\n",
       "       [0.22012082],\n",
       "       [0.21615669],\n",
       "       [0.20937711],\n",
       "       [0.2078703 ],\n",
       "       [0.20943049],\n",
       "       [0.22152351],\n",
       "       [0.23857373],\n",
       "       [0.24886766],\n",
       "       [0.2534749 ]], dtype=float32)"
      ]
     },
     "execution_count": 29,
     "metadata": {},
     "output_type": "execute_result"
    }
   ],
   "source": [
    "pred"
   ]
  },
  {
   "cell_type": "code",
   "execution_count": 30,
   "id": "b1236321",
   "metadata": {},
   "outputs": [
    {
     "data": {
      "text/html": [
       "<div>\n",
       "<style scoped>\n",
       "    .dataframe tbody tr th:only-of-type {\n",
       "        vertical-align: middle;\n",
       "    }\n",
       "\n",
       "    .dataframe tbody tr th {\n",
       "        vertical-align: top;\n",
       "    }\n",
       "\n",
       "    .dataframe thead th {\n",
       "        text-align: right;\n",
       "    }\n",
       "</style>\n",
       "<table border=\"1\" class=\"dataframe\">\n",
       "  <thead>\n",
       "    <tr style=\"text-align: right;\">\n",
       "      <th></th>\n",
       "      <th>Open</th>\n",
       "      <th>High</th>\n",
       "      <th>Low</th>\n",
       "      <th>Close</th>\n",
       "      <th>Volume</th>\n",
       "    </tr>\n",
       "  </thead>\n",
       "  <tbody>\n",
       "    <tr>\n",
       "      <th>count</th>\n",
       "      <td>248.000000</td>\n",
       "      <td>248.000000</td>\n",
       "      <td>248.000000</td>\n",
       "      <td>248.000000</td>\n",
       "      <td>248.000000</td>\n",
       "    </tr>\n",
       "    <tr>\n",
       "      <th>mean</th>\n",
       "      <td>0.409627</td>\n",
       "      <td>0.336651</td>\n",
       "      <td>0.450069</td>\n",
       "      <td>0.403798</td>\n",
       "      <td>0.043843</td>\n",
       "    </tr>\n",
       "    <tr>\n",
       "      <th>std</th>\n",
       "      <td>0.192505</td>\n",
       "      <td>0.173122</td>\n",
       "      <td>0.205404</td>\n",
       "      <td>0.204674</td>\n",
       "      <td>0.089071</td>\n",
       "    </tr>\n",
       "    <tr>\n",
       "      <th>min</th>\n",
       "      <td>0.000000</td>\n",
       "      <td>0.000000</td>\n",
       "      <td>0.000000</td>\n",
       "      <td>0.000000</td>\n",
       "      <td>0.000000</td>\n",
       "    </tr>\n",
       "    <tr>\n",
       "      <th>25%</th>\n",
       "      <td>0.242187</td>\n",
       "      <td>0.180851</td>\n",
       "      <td>0.269504</td>\n",
       "      <td>0.216216</td>\n",
       "      <td>0.012489</td>\n",
       "    </tr>\n",
       "    <tr>\n",
       "      <th>50%</th>\n",
       "      <td>0.409375</td>\n",
       "      <td>0.319149</td>\n",
       "      <td>0.457447</td>\n",
       "      <td>0.405405</td>\n",
       "      <td>0.023531</td>\n",
       "    </tr>\n",
       "    <tr>\n",
       "      <th>75%</th>\n",
       "      <td>0.551562</td>\n",
       "      <td>0.457447</td>\n",
       "      <td>0.593972</td>\n",
       "      <td>0.550676</td>\n",
       "      <td>0.041191</td>\n",
       "    </tr>\n",
       "    <tr>\n",
       "      <th>max</th>\n",
       "      <td>1.000000</td>\n",
       "      <td>1.000000</td>\n",
       "      <td>1.000000</td>\n",
       "      <td>1.000000</td>\n",
       "      <td>1.000000</td>\n",
       "    </tr>\n",
       "  </tbody>\n",
       "</table>\n",
       "</div>"
      ],
      "text/plain": [
       "             Open        High         Low       Close      Volume\n",
       "count  248.000000  248.000000  248.000000  248.000000  248.000000\n",
       "mean     0.409627    0.336651    0.450069    0.403798    0.043843\n",
       "std      0.192505    0.173122    0.205404    0.204674    0.089071\n",
       "min      0.000000    0.000000    0.000000    0.000000    0.000000\n",
       "25%      0.242187    0.180851    0.269504    0.216216    0.012489\n",
       "50%      0.409375    0.319149    0.457447    0.405405    0.023531\n",
       "75%      0.551562    0.457447    0.593972    0.550676    0.041191\n",
       "max      1.000000    1.000000    1.000000    1.000000    1.000000"
      ]
     },
     "execution_count": 30,
     "metadata": {},
     "output_type": "execute_result"
    }
   ],
   "source": [
    "df_scaled.describe()"
   ]
  },
  {
   "cell_type": "markdown",
   "id": "c0f729bc",
   "metadata": {},
   "source": [
    "#### array형식을 DataFrame형식으로 변환"
   ]
  },
  {
   "cell_type": "code",
   "execution_count": 31,
   "id": "55a4a041",
   "metadata": {},
   "outputs": [],
   "source": [
    "data_pred = pd.DataFrame(pred)"
   ]
  },
  {
   "cell_type": "code",
   "execution_count": 32,
   "id": "35894fb7",
   "metadata": {},
   "outputs": [],
   "source": [
    "data_actual = pd.DataFrame(test_label)"
   ]
  },
  {
   "cell_type": "code",
   "execution_count": 33,
   "id": "ab416ec7",
   "metadata": {},
   "outputs": [
    {
     "data": {
      "text/html": [
       "<div>\n",
       "<style scoped>\n",
       "    .dataframe tbody tr th:only-of-type {\n",
       "        vertical-align: middle;\n",
       "    }\n",
       "\n",
       "    .dataframe tbody tr th {\n",
       "        vertical-align: top;\n",
       "    }\n",
       "\n",
       "    .dataframe thead th {\n",
       "        text-align: right;\n",
       "    }\n",
       "</style>\n",
       "<table border=\"1\" class=\"dataframe\">\n",
       "  <thead>\n",
       "    <tr style=\"text-align: right;\">\n",
       "      <th></th>\n",
       "      <th>0</th>\n",
       "    </tr>\n",
       "  </thead>\n",
       "  <tbody>\n",
       "    <tr>\n",
       "      <th>0</th>\n",
       "      <td>0.170063</td>\n",
       "    </tr>\n",
       "    <tr>\n",
       "      <th>1</th>\n",
       "      <td>0.183149</td>\n",
       "    </tr>\n",
       "    <tr>\n",
       "      <th>2</th>\n",
       "      <td>0.187120</td>\n",
       "    </tr>\n",
       "    <tr>\n",
       "      <th>3</th>\n",
       "      <td>0.198220</td>\n",
       "    </tr>\n",
       "    <tr>\n",
       "      <th>4</th>\n",
       "      <td>0.205672</td>\n",
       "    </tr>\n",
       "  </tbody>\n",
       "</table>\n",
       "</div>"
      ],
      "text/plain": [
       "          0\n",
       "0  0.170063\n",
       "1  0.183149\n",
       "2  0.187120\n",
       "3  0.198220\n",
       "4  0.205672"
      ]
     },
     "execution_count": 33,
     "metadata": {},
     "output_type": "execute_result"
    }
   ],
   "source": [
    "data_pred.head()"
   ]
  },
  {
   "cell_type": "markdown",
   "id": "d6e87704",
   "metadata": {},
   "source": [
    "#### 0 과 1 사이의 값을 이제는 원래 주가로 환원"
   ]
  },
  {
   "cell_type": "code",
   "execution_count": 34,
   "id": "96972cd9",
   "metadata": {},
   "outputs": [],
   "source": [
    "# 0 과 1 사이의 값을 원래 주가로 환원 \n",
    "pred_close = (max(HD_stock1[\"Close\"])-min(HD_stock1[\"Close\"]))*data_pred + min(HD_stock1[\"Close\"]) \n",
    "actual_close = (max(HD_stock1[\"Close\"])-min(HD_stock1[\"Close\"]))*data_actual + min(HD_stock1[\"Close\"])"
   ]
  },
  {
   "cell_type": "markdown",
   "id": "eb14528e",
   "metadata": {},
   "source": [
    "#### 환원이 잘 되었는지 확인"
   ]
  },
  {
   "cell_type": "code",
   "execution_count": 35,
   "id": "ef6be969",
   "metadata": {},
   "outputs": [
    {
     "data": {
      "text/html": [
       "<div>\n",
       "<style scoped>\n",
       "    .dataframe tbody tr th:only-of-type {\n",
       "        vertical-align: middle;\n",
       "    }\n",
       "\n",
       "    .dataframe tbody tr th {\n",
       "        vertical-align: top;\n",
       "    }\n",
       "\n",
       "    .dataframe thead th {\n",
       "        text-align: right;\n",
       "    }\n",
       "</style>\n",
       "<table border=\"1\" class=\"dataframe\">\n",
       "  <thead>\n",
       "    <tr style=\"text-align: right;\">\n",
       "      <th></th>\n",
       "      <th>0</th>\n",
       "    </tr>\n",
       "  </thead>\n",
       "  <tbody>\n",
       "    <tr>\n",
       "      <th>0</th>\n",
       "      <td>206084.632516</td>\n",
       "    </tr>\n",
       "    <tr>\n",
       "      <th>1</th>\n",
       "      <td>207053.046584</td>\n",
       "    </tr>\n",
       "    <tr>\n",
       "      <th>2</th>\n",
       "      <td>207346.883714</td>\n",
       "    </tr>\n",
       "    <tr>\n",
       "      <th>3</th>\n",
       "      <td>208168.249100</td>\n",
       "    </tr>\n",
       "    <tr>\n",
       "      <th>4</th>\n",
       "      <td>208719.757468</td>\n",
       "    </tr>\n",
       "  </tbody>\n",
       "</table>\n",
       "</div>"
      ],
      "text/plain": [
       "               0\n",
       "0  206084.632516\n",
       "1  207053.046584\n",
       "2  207346.883714\n",
       "3  208168.249100\n",
       "4  208719.757468"
      ]
     },
     "execution_count": 35,
     "metadata": {},
     "output_type": "execute_result"
    }
   ],
   "source": [
    "pred_close.head()"
   ]
  },
  {
   "cell_type": "code",
   "execution_count": 36,
   "id": "bd320d47",
   "metadata": {},
   "outputs": [
    {
     "data": {
      "text/html": [
       "<div>\n",
       "<style scoped>\n",
       "    .dataframe tbody tr th:only-of-type {\n",
       "        vertical-align: middle;\n",
       "    }\n",
       "\n",
       "    .dataframe tbody tr th {\n",
       "        vertical-align: top;\n",
       "    }\n",
       "\n",
       "    .dataframe thead th {\n",
       "        text-align: right;\n",
       "    }\n",
       "</style>\n",
       "<table border=\"1\" class=\"dataframe\">\n",
       "  <thead>\n",
       "    <tr style=\"text-align: right;\">\n",
       "      <th></th>\n",
       "      <th>0</th>\n",
       "    </tr>\n",
       "  </thead>\n",
       "  <tbody>\n",
       "    <tr>\n",
       "      <th>0</th>\n",
       "      <td>208500.0</td>\n",
       "    </tr>\n",
       "    <tr>\n",
       "      <th>1</th>\n",
       "      <td>209500.0</td>\n",
       "    </tr>\n",
       "    <tr>\n",
       "      <th>2</th>\n",
       "      <td>209000.0</td>\n",
       "    </tr>\n",
       "    <tr>\n",
       "      <th>3</th>\n",
       "      <td>209000.0</td>\n",
       "    </tr>\n",
       "    <tr>\n",
       "      <th>4</th>\n",
       "      <td>207500.0</td>\n",
       "    </tr>\n",
       "  </tbody>\n",
       "</table>\n",
       "</div>"
      ],
      "text/plain": [
       "          0\n",
       "0  208500.0\n",
       "1  209500.0\n",
       "2  209000.0\n",
       "3  209000.0\n",
       "4  207500.0"
      ]
     },
     "execution_count": 36,
     "metadata": {},
     "output_type": "execute_result"
    }
   ],
   "source": [
    "actual_close.head()"
   ]
  },
  {
   "cell_type": "markdown",
   "id": "8968679c",
   "metadata": {},
   "source": [
    "### 환원된 주가의 실제값과 예측값 시각화"
   ]
  },
  {
   "cell_type": "code",
   "execution_count": 37,
   "id": "368a9dd1",
   "metadata": {},
   "outputs": [
    {
     "data": {
      "image/png": "[encoded data removed]",
      "text/plain": [
       "<Figure size 1200x500 with 1 Axes>"
      ]
     },
     "metadata": {},
     "output_type": "display_data"
    }
   ],
   "source": [
    "plt.figure(figsize=(12, 5))\n",
    "plt.plot(actual_close, label = 'actual')\n",
    "plt.plot(pred_close, label = 'prediction')\n",
    "plt.legend()\n",
    "plt.show()"
   ]
  },
  {
   "cell_type": "markdown",
   "id": "225ad893",
   "metadata": {},
   "source": [
    "# RNN"
   ]
  },
  {
   "cell_type": "markdown",
   "id": "9c958db6",
   "metadata": {},
   "source": [
    "#### keras.layers.SimpleRNN으로 신경망을 설계\n",
    "#### input_shape은 LSTM과 마찬가지로 \n",
    "#### train_feature.shape[1]과 train_feature.shape[2]을 입력\n",
    "#### 활성화 함수는 relu를 사용하고 \n",
    "#### Dense 레이어는 1개로 구성"
   ]
  },
  {
   "cell_type": "code",
   "execution_count": 38,
   "id": "0e49e0ab",
   "metadata": {},
   "outputs": [],
   "source": [
    "# RNN 을 이용하여 신경망 설계\n",
    "RNN_model = keras.Sequential([\n",
    "keras.layers.SimpleRNN(16, return_sequences = True, #return_sequence=True로 설정하면 레이어의 출력을 다음 레이어로 그대로 넘겨줌\n",
    "input_shape=(train_feature.shape[1], train_feature.shape[2]), activation='relu'),\n",
    "\n",
    "keras.layers.SimpleRNN(16, input_shape=(train_feature.shape[1], train_feature.shape[2]), activation='relu'),\n",
    "keras.layers.Dense(1, activation=None),\n",
    "])"
   ]
  },
  {
   "cell_type": "markdown",
   "id": "04cc1d9c",
   "metadata": {},
   "source": [
    "#### 모델의 서머리를 통해서 좀 더 자세히 확인할 수 있었다. \n",
    "#### 총 Total 파라미터는 881"
   ]
  },
  {
   "cell_type": "code",
   "execution_count": 39,
   "id": "5930585f",
   "metadata": {},
   "outputs": [
    {
     "name": "stdout",
     "output_type": "stream",
     "text": [
      "Model: \"sequential_1\"\n",
      "_________________________________________________________________\n",
      " Layer (type)                Output Shape              Param #   \n",
      "=================================================================\n",
      " simple_rnn (SimpleRNN)      (None, 20, 16)            336       \n",
      "                                                                 \n",
      " simple_rnn_1 (SimpleRNN)    (None, 16)                528       \n",
      "                                                                 \n",
      " dense_1 (Dense)             (None, 1)                 17        \n",
      "                                                                 \n",
      "=================================================================\n",
      "Total params: 881\n",
      "Trainable params: 881\n",
      "Non-trainable params: 0\n",
      "_________________________________________________________________\n",
      "None\n"
     ]
    }
   ],
   "source": [
    "print(RNN_model.summary())"
   ]
  },
  {
   "cell_type": "code",
   "execution_count": 1,
   "id": "5a27eb84",
   "metadata": {},
   "outputs": [
    {
     "name": "stdout",
     "output_type": "stream",
     "text": [
      "Requirement already satisfied: pydot in c:\\users\\otfoo\\anaconda3\\lib\\site-packages (1.4.2)\n",
      "Requirement already satisfied: pyparsing>=2.1.4 in c:\\users\\otfoo\\anaconda3\\lib\\site-packages (from pydot) (3.0.9)\n"
     ]
    },
    {
     "ename": "NameError",
     "evalue": "name 'model' is not defined",
     "output_type": "error",
     "traceback": [
      "\u001b[1;31m---------------------------------------------------------------------------\u001b[0m",
      "\u001b[1;31mNameError\u001b[0m                                 Traceback (most recent call last)",
      "\u001b[1;32m~\\AppData\\Local\\Temp\\ipykernel_21684\\369751258.py\u001b[0m in \u001b[0;36m<module>\u001b[1;34m\u001b[0m\n\u001b[0;32m      3\u001b[0m \u001b[0mget_ipython\u001b[0m\u001b[1;33m(\u001b[0m\u001b[1;33m)\u001b[0m\u001b[1;33m.\u001b[0m\u001b[0msystem\u001b[0m\u001b[1;33m(\u001b[0m\u001b[1;34m'pip install pydot'\u001b[0m\u001b[1;33m)\u001b[0m\u001b[1;33m\u001b[0m\u001b[1;33m\u001b[0m\u001b[0m\n\u001b[0;32m      4\u001b[0m \u001b[1;32mfrom\u001b[0m \u001b[0mkeras\u001b[0m\u001b[1;33m.\u001b[0m\u001b[0mutils\u001b[0m\u001b[1;33m.\u001b[0m\u001b[0mvis_utils\u001b[0m \u001b[1;32mimport\u001b[0m \u001b[0mplot_model\u001b[0m\u001b[1;33m\u001b[0m\u001b[1;33m\u001b[0m\u001b[0m\n\u001b[1;32m----> 5\u001b[1;33m \u001b[0mtf\u001b[0m\u001b[1;33m.\u001b[0m\u001b[0mkeras\u001b[0m\u001b[1;33m.\u001b[0m\u001b[0mutils\u001b[0m\u001b[1;33m.\u001b[0m\u001b[0mplot_model\u001b[0m\u001b[1;33m(\u001b[0m\u001b[0mmodel\u001b[0m\u001b[1;33m,\u001b[0m \u001b[1;34m\"RNN.png\"\u001b[0m\u001b[1;33m,\u001b[0m \u001b[0mshow_shapes\u001b[0m\u001b[1;33m=\u001b[0m\u001b[1;32mTrue\u001b[0m\u001b[1;33m)\u001b[0m\u001b[1;33m\u001b[0m\u001b[1;33m\u001b[0m\u001b[0m\n\u001b[0m",
      "\u001b[1;31mNameError\u001b[0m: name 'model' is not defined"
     ]
    }
   ],
   "source": [
    "# 코렙에서만 생성이 가능한 시각화 \n",
    "\n",
    "# import tensorflow as tf\n",
    "# import pydot\n",
    "# !pip install pydot\n",
    "# from keras.utils.vis_utils import plot_model\n",
    "# tf.keras.utils.plot_model(model, \"RNN.png\", show_shapes=True)"
   ]
  },
  {
   "cell_type": "markdown",
   "id": "dadb8804",
   "metadata": {},
   "source": [
    "#### loss 평션은 민스퀘어에러로 하고 옵티마이져는 아담을 사용"
   ]
  },
  {
   "cell_type": "code",
   "execution_count": 41,
   "id": "4d13dc52",
   "metadata": {},
   "outputs": [
    {
     "name": "stdout",
     "output_type": "stream",
     "text": [
      "Epoch 1/30\n",
      "4/4 [==============================] - 8s 16ms/step - loss: 0.1837\n",
      "Epoch 2/30\n",
      "4/4 [==============================] - 0s 18ms/step - loss: 0.1327\n",
      "Epoch 3/30\n",
      "4/4 [==============================] - 0s 18ms/step - loss: 0.0664\n",
      "Epoch 4/30\n",
      "4/4 [==============================] - 0s 18ms/step - loss: 0.0155\n",
      "Epoch 5/30\n",
      "4/4 [==============================] - 0s 18ms/step - loss: 0.0334\n",
      "Epoch 6/30\n",
      "4/4 [==============================] - 0s 18ms/step - loss: 0.0158\n",
      "Epoch 7/30\n",
      "4/4 [==============================] - 0s 18ms/step - loss: 0.0141\n",
      "Epoch 8/30\n",
      "4/4 [==============================] - 0s 17ms/step - loss: 0.0174\n",
      "Epoch 9/30\n",
      "4/4 [==============================] - 0s 17ms/step - loss: 0.0129\n",
      "Epoch 10/30\n",
      "4/4 [==============================] - 0s 17ms/step - loss: 0.0109\n",
      "Epoch 11/30\n",
      "4/4 [==============================] - 0s 17ms/step - loss: 0.0124\n",
      "Epoch 12/30\n",
      "4/4 [==============================] - 0s 16ms/step - loss: 0.0108\n",
      "Epoch 13/30\n",
      "4/4 [==============================] - 0s 17ms/step - loss: 0.0106\n",
      "Epoch 14/30\n",
      "4/4 [==============================] - 0s 17ms/step - loss: 0.0107\n",
      "Epoch 15/30\n",
      "4/4 [==============================] - 0s 17ms/step - loss: 0.0100\n",
      "Epoch 16/30\n",
      "4/4 [==============================] - 0s 17ms/step - loss: 0.0101\n",
      "Epoch 17/30\n",
      "4/4 [==============================] - 0s 17ms/step - loss: 0.0100\n",
      "Epoch 18/30\n",
      "4/4 [==============================] - 0s 17ms/step - loss: 0.0097\n",
      "Epoch 19/30\n",
      "4/4 [==============================] - 0s 16ms/step - loss: 0.0097\n",
      "Epoch 20/30\n",
      "4/4 [==============================] - 0s 17ms/step - loss: 0.0096\n",
      "Epoch 21/30\n",
      "4/4 [==============================] - 0s 17ms/step - loss: 0.0094\n",
      "Epoch 22/30\n",
      "4/4 [==============================] - 0s 16ms/step - loss: 0.0094\n",
      "Epoch 23/30\n",
      "4/4 [==============================] - 0s 18ms/step - loss: 0.0093\n",
      "Epoch 24/30\n",
      "4/4 [==============================] - 0s 18ms/step - loss: 0.0093\n",
      "Epoch 25/30\n",
      "4/4 [==============================] - 0s 18ms/step - loss: 0.0092\n",
      "Epoch 26/30\n",
      "4/4 [==============================] - 0s 19ms/step - loss: 0.0092\n",
      "Epoch 27/30\n",
      "4/4 [==============================] - 0s 17ms/step - loss: 0.0091\n",
      "Epoch 28/30\n",
      "4/4 [==============================] - 0s 17ms/step - loss: 0.0090\n",
      "Epoch 29/30\n",
      "4/4 [==============================] - 0s 17ms/step - loss: 0.0089\n",
      "Epoch 30/30\n",
      "4/4 [==============================] - 0s 17ms/step - loss: 0.0088\n"
     ]
    },
    {
     "data": {
      "text/plain": [
       "<keras.callbacks.History at 0x249c4704a00>"
      ]
     },
     "execution_count": 41,
     "metadata": {},
     "output_type": "execute_result"
    }
   ],
   "source": [
    "# RNN 모델 실행\n",
    "RNN_model.compile(optimizer='adam', loss='mean_squared_error')\n",
    "RNN_model.fit(x_train, y_train, epochs=30)"
   ]
  },
  {
   "cell_type": "code",
   "execution_count": 42,
   "id": "4dc4f965",
   "metadata": {},
   "outputs": [
    {
     "name": "stdout",
     "output_type": "stream",
     "text": [
      "2/2 [==============================] - 1s 5ms/step\n",
      "***예측값 보기***\n",
      "[[0.20392346]\n",
      " [0.18464933]\n",
      " [0.22605065]\n",
      " [0.18441755]\n",
      " [0.24361378]\n",
      " [0.21113679]\n",
      " [0.2527227 ]\n",
      " [0.22943255]\n",
      " [0.24153647]\n",
      " [0.23484865]\n",
      " [0.2714496 ]\n",
      " [0.25471598]\n",
      " [0.27447608]\n",
      " [0.24799308]\n",
      " [0.25824368]\n",
      " [0.25987223]\n",
      " [0.2570299 ]\n",
      " [0.28563008]\n",
      " [0.26326957]\n",
      " [0.30734938]\n",
      " [0.27302545]\n",
      " [0.28691426]\n",
      " [0.26293766]\n",
      " [0.28188515]\n",
      " [0.26649976]\n",
      " [0.2675178 ]\n",
      " [0.24240091]\n",
      " [0.27884534]\n",
      " [0.2259184 ]\n",
      " [0.32648638]\n",
      " [0.24624574]\n",
      " [0.3304168 ]\n",
      " [0.2579985 ]\n",
      " [0.296922  ]\n",
      " [0.25751004]\n",
      " [0.26812655]\n",
      " [0.2286992 ]\n",
      " [0.26262856]\n",
      " [0.20347291]\n",
      " [0.22818615]\n",
      " [0.2248503 ]\n",
      " [0.21549897]\n",
      " [0.22412297]\n",
      " [0.22091529]\n",
      " [0.22123948]\n",
      " [0.23860627]\n",
      " [0.23486526]\n",
      " [0.24894099]\n",
      " [0.24730426]\n",
      " [0.23993927]\n",
      " [0.24365953]\n",
      " [0.23469433]\n",
      " [0.23710461]\n",
      " [0.26474324]\n",
      " [0.2547556 ]]\n"
     ]
    }
   ],
   "source": [
    "# RNN 예측 수행\n",
    "RNN_pred = RNN_model.predict(test_feature)\n",
    "print('***예측값 보기***')\n",
    "print(RNN_pred)"
   ]
  },
  {
   "cell_type": "markdown",
   "id": "cfb0076c",
   "metadata": {},
   "source": [
    "#### 스케일링 값을 환원하지 않고 그래프를 그려보기"
   ]
  },
  {
   "cell_type": "code",
   "execution_count": 43,
   "id": "4f02c11f",
   "metadata": {},
   "outputs": [
    {
     "data": {
      "image/png": "[encoded data removed]",
      "text/plain": [
       "<Figure size 640x480 with 1 Axes>"
      ]
     },
     "metadata": {},
     "output_type": "display_data"
    }
   ],
   "source": [
    "plt.figure()\n",
    "plt.plot(test_label, label = 'actual')\n",
    "plt.plot(RNN_pred, label = 'prediction')\n",
    "plt.legend()\n",
    "plt.show()"
   ]
  },
  {
   "cell_type": "code",
   "execution_count": 44,
   "id": "9795db6a",
   "metadata": {},
   "outputs": [],
   "source": [
    "# 0 과 1 사이의 값을 원래 주가로 환원\n",
    "data_RNN_pred = pd.DataFrame(RNN_pred)\n",
    "data_RNN_real = pd.DataFrame(test_label)\n",
    "pred_close_RNN = (max(HD_stock1[\"Close\"])-min(HD_stock1[\"Close\"]))*data_RNN_pred + min(HD_stock1[\"Close\"]) \n",
    "actual_close_RNN = (max(HD_stock1[\"Close\"])-min(HD_stock1[\"Close\"]))*data_RNN_real + min(HD_stock1[\"Close\"])"
   ]
  },
  {
   "cell_type": "markdown",
   "id": "0e969e35",
   "metadata": {},
   "source": [
    "#### 0과 1사이의 값을 원래주가로 환원한 값으로 \n",
    "#### 다시 그래프 그리기"
   ]
  },
  {
   "cell_type": "code",
   "execution_count": 45,
   "id": "1f7632c2",
   "metadata": {},
   "outputs": [
    {
     "data": {
      "image/png": "[encoded data removed]",
      "text/plain": [
       "<Figure size 640x480 with 1 Axes>"
      ]
     },
     "metadata": {},
     "output_type": "display_data"
    }
   ],
   "source": [
    "plt.figure()\n",
    "plt.plot(actual_close_RNN, label = 'actual')\n",
    "plt.plot(pred_close_RNN, label = 'prediction')\n",
    "plt.legend()\n",
    "plt.show()"
   ]
  },
  {
   "cell_type": "markdown",
   "id": "f47de148",
   "metadata": {},
   "source": [
    "## 그래프의 형태는 환원하기 전과 환원한 후가 동일함"
   ]
  }
 ],
 "metadata": {
  "kernelspec": {
   "display_name": "Python 3 (ipykernel)",
   "language": "python",
   "name": "python3"
  },
  "language_info": {
   "codemirror_mode": {
    "name": "ipython",
    "version": 3
   },
   "file_extension": ".py",
   "mimetype": "text/x-python",
   "name": "python",
   "nbconvert_exporter": "python",
   "pygments_lexer": "ipython3",
   "version": "3.11.0"
  },
  "vscode": {
   "interpreter": {
    "hash": "943b30e36007a11e13680dc03ef51b3271bb8ce8e97963534c0e28647a7e36da"
   }
  }
 },
 "nbformat": 4,
 "nbformat_minor": 5
}
